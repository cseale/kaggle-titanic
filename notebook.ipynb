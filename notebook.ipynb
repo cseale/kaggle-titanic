{
  "metadata": {
    "kernelspec": {
      "display_name": "Python 3",
      "language": "python",
      "name": "python3"
    },
    "language_info": {
      "codemirror_mode": {
        "name": "ipython",
        "version": 3
      },
      "file_extension": ".py",
      "mimetype": "text/x-python",
      "name": "python",
      "nbconvert_exporter": "python",
      "pygments_lexer": "ipython3",
      "version": "3.6.0"
    }
  },
  "nbformat": 4,
  "nbformat_minor": 0,
  "cells": [
    {
      "cell_type": "markdown",
      "source": "First submission using a logistic regression classifier.\n\nApproach:\n1 - view data\n2 - choose columns which seem most viable\n3 - visualise data",
      "execution_count": null,
      "outputs": [],
      "metadata": {}
    },
    {
      "cell_type": "markdown",
      "source": null,
      "execution_count": null,
      "outputs": [],
      "metadata": {}
    },
    {
      "cell_type": "code",
      "source": "#read data\nimport pandas as pd\nimport numpy as np\n\ndf = pd.read_csv('../input/train.csv')\nlen(df.index)",
      "execution_count": 156,
      "outputs": [
        {
          "data": {
            "text/plain": "891"
          },
          "execution_count": 156,
          "metadata": {},
          "output_type": "execute_result"
        }
      ],
      "metadata": {}
    },
    {
      "cell_type": "markdown",
      "source": "Throw away useless data",
      "execution_count": null,
      "outputs": [],
      "metadata": {}
    },
    {
      "cell_type": "code",
      "source": "# drop unused columns\ndf = df.drop(['PassengerId', 'Name', 'Ticket', 'Embarked', 'Cabin', 'Fare'], axis=1)\ndf.head()",
      "execution_count": 133,
      "outputs": [
        {
          "data": {
            "text/html": "<div>\n<table border=\"1\" class=\"dataframe\">\n  <thead>\n    <tr style=\"text-align: right;\">\n      <th></th>\n      <th>Survived</th>\n      <th>Pclass</th>\n      <th>Sex</th>\n      <th>Age</th>\n      <th>SibSp</th>\n      <th>Parch</th>\n    </tr>\n  </thead>\n  <tbody>\n    <tr>\n      <th>0</th>\n      <td>0</td>\n      <td>3</td>\n      <td>male</td>\n      <td>22.0</td>\n      <td>1</td>\n      <td>0</td>\n    </tr>\n    <tr>\n      <th>1</th>\n      <td>1</td>\n      <td>1</td>\n      <td>female</td>\n      <td>38.0</td>\n      <td>1</td>\n      <td>0</td>\n    </tr>\n    <tr>\n      <th>2</th>\n      <td>1</td>\n      <td>3</td>\n      <td>female</td>\n      <td>26.0</td>\n      <td>0</td>\n      <td>0</td>\n    </tr>\n    <tr>\n      <th>3</th>\n      <td>1</td>\n      <td>1</td>\n      <td>female</td>\n      <td>35.0</td>\n      <td>1</td>\n      <td>0</td>\n    </tr>\n    <tr>\n      <th>4</th>\n      <td>0</td>\n      <td>3</td>\n      <td>male</td>\n      <td>35.0</td>\n      <td>0</td>\n      <td>0</td>\n    </tr>\n  </tbody>\n</table>\n</div>",
            "text/plain": "   Survived  Pclass     Sex   Age  SibSp  Parch\n0         0       3    male  22.0      1      0\n1         1       1  female  38.0      1      0\n2         1       3  female  26.0      0      0\n3         1       1  female  35.0      1      0\n4         0       3    male  35.0      0      0"
          },
          "execution_count": 133,
          "metadata": {},
          "output_type": "execute_result"
        }
      ],
      "metadata": {}
    },
    {
      "cell_type": "code",
      "source": "# visualize data for sex survived\n\nsex_survived_df = df[['Sex', 'Survived']]\nsex_survived_df = sex_survived_df.groupby(['Sex', 'Survived']).size()\nsex_survived_df.head()",
      "execution_count": 134,
      "outputs": [
        {
          "data": {
            "text/plain": "Sex     Survived\nfemale  0            81\n        1           233\nmale    0           468\n        1           109\ndtype: int64"
          },
          "execution_count": 134,
          "metadata": {},
          "output_type": "execute_result"
        }
      ],
      "metadata": {}
    },
    {
      "cell_type": "code",
      "source": "# visualize data for survivors with siblings on board\n\nsib_survived_df = df[['SibSp', 'Survived']]\nsib_survived_df = sib_survived_df.groupby(['SibSp', 'Survived']).size()\nsib_survived_df.head(n=20)",
      "execution_count": 135,
      "outputs": [
        {
          "data": {
            "text/plain": "SibSp  Survived\n0      0           398\n       1           210\n1      0            97\n       1           112\n2      0            15\n       1            13\n3      0            12\n       1             4\n4      0            15\n       1             3\n5      0             5\n8      0             7\ndtype: int64"
          },
          "execution_count": 135,
          "metadata": {},
          "output_type": "execute_result"
        }
      ],
      "metadata": {}
    },
    {
      "cell_type": "code",
      "source": "# visualize data for survivors with parents on board\n\nparch_survived_df = df[['Parch', 'Survived']]\nparch_survived_df = parch_survived_df.groupby(['Parch', 'Survived']).size()\nparch_survived_df.head(n=6)",
      "execution_count": 136,
      "outputs": [
        {
          "data": {
            "text/plain": "Parch  Survived\n0      0           445\n       1           233\n1      0            53\n       1            65\n2      0            40\n       1            40\ndtype: int64"
          },
          "execution_count": 136,
          "metadata": {},
          "output_type": "execute_result"
        }
      ],
      "metadata": {}
    },
    {
      "cell_type": "code",
      "source": null,
      "execution_count": null,
      "outputs": [],
      "metadata": {}
    },
    {
      "cell_type": "code",
      "source": null,
      "execution_count": null,
      "outputs": [],
      "metadata": {}
    },
    {
      "cell_type": "code",
      "source": null,
      "execution_count": null,
      "outputs": [],
      "metadata": {}
    },
    {
      "cell_type": "code",
      "source": null,
      "execution_count": null,
      "outputs": [],
      "metadata": {}
    },
    {
      "cell_type": "code",
      "source": "# visualize data for pclass survived\n\npclass_survived_df = df[['Pclass', 'Survived']]\npclass_survived_df = pclass_survived_df.groupby(['Pclass', 'Survived']).size()\npclass_survived_df.head(n=6)",
      "execution_count": 137,
      "outputs": [
        {
          "data": {
            "text/plain": "Pclass  Survived\n1       0            80\n        1           136\n2       0            97\n        1            87\n3       0           372\n        1           119\ndtype: int64"
          },
          "execution_count": 137,
          "metadata": {},
          "output_type": "execute_result"
        }
      ],
      "metadata": {}
    },
    {
      "cell_type": "code",
      "source": "from matplotlib import pyplot\n\n# visualize data for pclass survived\n\npclass_survived_df = df[['Age', 'Survived']]\npclass_lived_df = df.loc[df['Survived'] == 1]\npclass_died_df = df.loc[df['Survived'] == 0]\n\n\nlived = pclass_lived_df['Age'].astype(np.float).dropna()\ndied = pclass_died_df['Age'].astype(np.float).dropna()\nbins = np.linspace(0, 100, 10)\n\npyplot.hist(died, bins, alpha=0.5, label='died')\npyplot.hist(lived, bins, alpha=0.5, label='lived')\npyplot.legend(loc='upper right')\npyplot.show()",
      "execution_count": 138,
      "outputs": [
        {
          "data": {
            "image/png": "[encoded data removed]",
            "text/plain": "<matplotlib.figure.Figure at 0x7f4afc7613c8>"
          },
          "metadata": {},
          "output_type": "display_data"
        }
      ],
      "metadata": {}
    },
    {
      "cell_type": "markdown",
      "source": "From the above, we can draw the conclusion that the best columns to use from the dataset are\n\n 1. Sex\n 2. Pclass\n 3. Age (Optional)",
      "execution_count": null,
      "outputs": [],
      "metadata": {}
    },
    {
      "cell_type": "code",
      "source": "from sklearn import cross_validation, preprocessing\n\n# prep data\ndf2 = df[['Age', 'Pclass', 'Sex', 'Survived']]\ndf2['Sex'] = (df['Sex'] !='male')\ndf2 = df2.astype(float).dropna()\n\n\nX = df2.ix[:,['Age', 'Pclass', 'Sex']].as_matrix()\nX = preprocessing.scale(X)\ny = df2.Survived.astype(int).as_matrix()\nlabels = np.unique(y)\n\n[X_train, X_test, y_train, y_test] = cross_validation.train_test_split(X, y, test_size = 0.3)",
      "execution_count": 183,
      "outputs": [
        {
          "name": "stderr",
          "output_type": "stream",
          "text": "/opt/conda/bin/ipython:5: SettingWithCopyWarning: \nA value is trying to be set on a copy of a slice from a DataFrame.\nTry using .loc[row_indexer,col_indexer] = value instead\n\nSee the caveats in the documentation: http://pandas.pydata.org/pandas-docs/stable/indexing.html#indexing-view-versus-copy\n  \n"
        },
        {
          "data": {
            "text/plain": "array([0, 1])"
          },
          "execution_count": 183,
          "metadata": {},
          "output_type": "execute_result"
        }
      ],
      "metadata": {}
    },
    {
      "cell_type": "code",
      "source": "# create logisitic regression model\n\nfrom sklearn import linear_model\n\nclf = linear_model.LogisticRegression().fit(X_train, y_train);\n\nprint(\"logistic regression model trained\")",
      "execution_count": 181,
      "outputs": [
        {
          "name": "stdout",
          "output_type": "stream",
          "text": "logistic regression model trained\n"
        }
      ],
      "metadata": {}
    },
    {
      "cell_type": "code",
      "source": "from sklearn.metrics import accuracy_score\nfrom sklearn.metrics import precision_recall_fscore_support\n\ny_pred = clf.predict(X_test)\n\nprecision_recall_fscore_support(y_test, y_pred, average='binary', pos_label=1)\n\nprint(\"precision: \" + str(precision))\nprint(\"recall: \" + str(recall))\nprint(\"f_score: \" + str(f_score))",
      "execution_count": 193,
      "outputs": [
        {
          "name": "stdout",
          "output_type": "stream",
          "text": "precision: [ 0.78832117  0.78205128]\nrecall: [ 0.864       0.67777778]\nf_score: [ 0.82442748  0.72619048]\n"
        }
      ],
      "metadata": {}
    }
  ]
}